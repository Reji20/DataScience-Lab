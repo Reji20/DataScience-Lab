{
  "nbformat": 4,
  "nbformat_minor": 0,
  "metadata": {
    "colab": {
      "name": "Decisiontree 1.ipynb",
      "provenance": [],
      "collapsed_sections": [],
      "authorship_tag": "ABX9TyOx3d2TnmPXF9N5cGMfJEy6",
      "include_colab_link": true
    },
    "kernelspec": {
      "name": "python3",
      "display_name": "Python 3"
    },
    "language_info": {
      "name": "python"
    }
  },
  "cells": [
    {
      "cell_type": "markdown",
      "metadata": {
        "id": "view-in-github",
        "colab_type": "text"
      },
      "source": [
        "<a href=\"https://colab.research.google.com/github/Reji20/Datascience--lab/blob/main/Decisiontree_1.ipynb\" target=\"_parent\"><img src=\"https://colab.research.google.com/assets/colab-badge.svg\" alt=\"Open In Colab\"/></a>"
      ]
    },
    {
      "cell_type": "code",
      "execution_count": null,
      "metadata": {
        "id": "MpRDnE6XwTkv"
      },
      "outputs": [],
      "source": [
        "import pandas as pd\n",
        "import numpy as np\n",
        "import matplotlib.pyplot as plt\n",
        "%matplotlib inline"
      ]
    },
    {
      "cell_type": "code",
      "source": [
        "dataset = pd.read_csv('/content/bill.csv')"
      ],
      "metadata": {
        "id": "F45JHzWWwePe"
      },
      "execution_count": null,
      "outputs": []
    },
    {
      "cell_type": "code",
      "source": [
        "dataset.shape"
      ],
      "metadata": {
        "colab": {
          "base_uri": "https://localhost:8080/"
        },
        "id": "z8XhXSZTwotM",
        "outputId": "7e5ab71d-f589-4071-9567-b9e723caf146"
      },
      "execution_count": null,
      "outputs": [
        {
          "output_type": "execute_result",
          "data": {
            "text/plain": [
              "(1372, 5)"
            ]
          },
          "metadata": {},
          "execution_count": 20
        }
      ]
    },
    {
      "cell_type": "code",
      "source": [
        "dataset.head()"
      ],
      "metadata": {
        "colab": {
          "base_uri": "https://localhost:8080/",
          "height": 206
        },
        "id": "bTsgSXUswsq8",
        "outputId": "99af5fcc-f91f-4ace-c73c-bb11fe2746ee"
      },
      "execution_count": null,
      "outputs": [
        {
          "output_type": "execute_result",
          "data": {
            "text/html": [
              "\n",
              "  <div id=\"df-e503ad2a-c9c6-43cb-ae3e-49846ac8c2c7\">\n",
              "    <div class=\"colab-df-container\">\n",
              "      <div>\n",
              "<style scoped>\n",
              "    .dataframe tbody tr th:only-of-type {\n",
              "        vertical-align: middle;\n",
              "    }\n",
              "\n",
              "    .dataframe tbody tr th {\n",
              "        vertical-align: top;\n",
              "    }\n",
              "\n",
              "    .dataframe thead th {\n",
              "        text-align: right;\n",
              "    }\n",
              "</style>\n",
              "<table border=\"1\" class=\"dataframe\">\n",
              "  <thead>\n",
              "    <tr style=\"text-align: right;\">\n",
              "      <th></th>\n",
              "      <th>Variance</th>\n",
              "      <th>Skewness</th>\n",
              "      <th>Curtosis</th>\n",
              "      <th>Entropy</th>\n",
              "      <th>Class</th>\n",
              "    </tr>\n",
              "  </thead>\n",
              "  <tbody>\n",
              "    <tr>\n",
              "      <th>0</th>\n",
              "      <td>3.62160</td>\n",
              "      <td>8.6661</td>\n",
              "      <td>-2.8073</td>\n",
              "      <td>-0.44699</td>\n",
              "      <td>0</td>\n",
              "    </tr>\n",
              "    <tr>\n",
              "      <th>1</th>\n",
              "      <td>4.54590</td>\n",
              "      <td>8.1674</td>\n",
              "      <td>-2.4586</td>\n",
              "      <td>-1.46210</td>\n",
              "      <td>0</td>\n",
              "    </tr>\n",
              "    <tr>\n",
              "      <th>2</th>\n",
              "      <td>3.86600</td>\n",
              "      <td>-2.6383</td>\n",
              "      <td>1.9242</td>\n",
              "      <td>0.10645</td>\n",
              "      <td>0</td>\n",
              "    </tr>\n",
              "    <tr>\n",
              "      <th>3</th>\n",
              "      <td>3.45660</td>\n",
              "      <td>9.5228</td>\n",
              "      <td>-4.0112</td>\n",
              "      <td>-3.59440</td>\n",
              "      <td>0</td>\n",
              "    </tr>\n",
              "    <tr>\n",
              "      <th>4</th>\n",
              "      <td>0.32924</td>\n",
              "      <td>-4.4552</td>\n",
              "      <td>4.5718</td>\n",
              "      <td>-0.98880</td>\n",
              "      <td>0</td>\n",
              "    </tr>\n",
              "  </tbody>\n",
              "</table>\n",
              "</div>\n",
              "      <button class=\"colab-df-convert\" onclick=\"convertToInteractive('df-e503ad2a-c9c6-43cb-ae3e-49846ac8c2c7')\"\n",
              "              title=\"Convert this dataframe to an interactive table.\"\n",
              "              style=\"display:none;\">\n",
              "        \n",
              "  <svg xmlns=\"http://www.w3.org/2000/svg\" height=\"24px\"viewBox=\"0 0 24 24\"\n",
              "       width=\"24px\">\n",
              "    <path d=\"M0 0h24v24H0V0z\" fill=\"none\"/>\n",
              "    <path d=\"M18.56 5.44l.94 2.06.94-2.06 2.06-.94-2.06-.94-.94-2.06-.94 2.06-2.06.94zm-11 1L8.5 8.5l.94-2.06 2.06-.94-2.06-.94L8.5 2.5l-.94 2.06-2.06.94zm10 10l.94 2.06.94-2.06 2.06-.94-2.06-.94-.94-2.06-.94 2.06-2.06.94z\"/><path d=\"M17.41 7.96l-1.37-1.37c-.4-.4-.92-.59-1.43-.59-.52 0-1.04.2-1.43.59L10.3 9.45l-7.72 7.72c-.78.78-.78 2.05 0 2.83L4 21.41c.39.39.9.59 1.41.59.51 0 1.02-.2 1.41-.59l7.78-7.78 2.81-2.81c.8-.78.8-2.07 0-2.86zM5.41 20L4 18.59l7.72-7.72 1.47 1.35L5.41 20z\"/>\n",
              "  </svg>\n",
              "      </button>\n",
              "      \n",
              "  <style>\n",
              "    .colab-df-container {\n",
              "      display:flex;\n",
              "      flex-wrap:wrap;\n",
              "      gap: 12px;\n",
              "    }\n",
              "\n",
              "    .colab-df-convert {\n",
              "      background-color: #E8F0FE;\n",
              "      border: none;\n",
              "      border-radius: 50%;\n",
              "      cursor: pointer;\n",
              "      display: none;\n",
              "      fill: #1967D2;\n",
              "      height: 32px;\n",
              "      padding: 0 0 0 0;\n",
              "      width: 32px;\n",
              "    }\n",
              "\n",
              "    .colab-df-convert:hover {\n",
              "      background-color: #E2EBFA;\n",
              "      box-shadow: 0px 1px 2px rgba(60, 64, 67, 0.3), 0px 1px 3px 1px rgba(60, 64, 67, 0.15);\n",
              "      fill: #174EA6;\n",
              "    }\n",
              "\n",
              "    [theme=dark] .colab-df-convert {\n",
              "      background-color: #3B4455;\n",
              "      fill: #D2E3FC;\n",
              "    }\n",
              "\n",
              "    [theme=dark] .colab-df-convert:hover {\n",
              "      background-color: #434B5C;\n",
              "      box-shadow: 0px 1px 3px 1px rgba(0, 0, 0, 0.15);\n",
              "      filter: drop-shadow(0px 1px 2px rgba(0, 0, 0, 0.3));\n",
              "      fill: #FFFFFF;\n",
              "    }\n",
              "  </style>\n",
              "\n",
              "      <script>\n",
              "        const buttonEl =\n",
              "          document.querySelector('#df-e503ad2a-c9c6-43cb-ae3e-49846ac8c2c7 button.colab-df-convert');\n",
              "        buttonEl.style.display =\n",
              "          google.colab.kernel.accessAllowed ? 'block' : 'none';\n",
              "\n",
              "        async function convertToInteractive(key) {\n",
              "          const element = document.querySelector('#df-e503ad2a-c9c6-43cb-ae3e-49846ac8c2c7');\n",
              "          const dataTable =\n",
              "            await google.colab.kernel.invokeFunction('convertToInteractive',\n",
              "                                                     [key], {});\n",
              "          if (!dataTable) return;\n",
              "\n",
              "          const docLinkHtml = 'Like what you see? Visit the ' +\n",
              "            '<a target=\"_blank\" href=https://colab.research.google.com/notebooks/data_table.ipynb>data table notebook</a>'\n",
              "            + ' to learn more about interactive tables.';\n",
              "          element.innerHTML = '';\n",
              "          dataTable['output_type'] = 'display_data';\n",
              "          await google.colab.output.renderOutput(dataTable, element);\n",
              "          const docLink = document.createElement('div');\n",
              "          docLink.innerHTML = docLinkHtml;\n",
              "          element.appendChild(docLink);\n",
              "        }\n",
              "      </script>\n",
              "    </div>\n",
              "  </div>\n",
              "  "
            ],
            "text/plain": [
              "   Variance  Skewness  Curtosis  Entropy  Class\n",
              "0   3.62160    8.6661   -2.8073 -0.44699      0\n",
              "1   4.54590    8.1674   -2.4586 -1.46210      0\n",
              "2   3.86600   -2.6383    1.9242  0.10645      0\n",
              "3   3.45660    9.5228   -4.0112 -3.59440      0\n",
              "4   0.32924   -4.4552    4.5718 -0.98880      0"
            ]
          },
          "metadata": {},
          "execution_count": 21
        }
      ]
    },
    {
      "cell_type": "code",
      "source": [
        "X = dataset.drop('Class', axis=1)\n",
        "y = dataset['Class']"
      ],
      "metadata": {
        "id": "S6jZ9_E2wv5U"
      },
      "execution_count": null,
      "outputs": []
    },
    {
      "cell_type": "code",
      "source": [
        "from sklearn.model_selection import train_test_split\n",
        "X_train, X_test, y_train, y_test = train_test_split(X, y, test_size=0.20)"
      ],
      "metadata": {
        "id": "rcUP30B3w1AM"
      },
      "execution_count": null,
      "outputs": []
    },
    {
      "cell_type": "code",
      "source": [
        "from sklearn.tree import DecisionTreeClassifier\n",
        "classifier = DecisionTreeClassifier()\n",
        "classifier.fit(X_train, y_train)"
      ],
      "metadata": {
        "colab": {
          "base_uri": "https://localhost:8080/"
        },
        "id": "XYX2qS0Fw5NU",
        "outputId": "c4e9f6da-ee1f-408f-86d8-d87f30c506bd"
      },
      "execution_count": null,
      "outputs": [
        {
          "output_type": "execute_result",
          "data": {
            "text/plain": [
              "DecisionTreeClassifier()"
            ]
          },
          "metadata": {},
          "execution_count": 24
        }
      ]
    },
    {
      "cell_type": "code",
      "source": [
        "y_pred = classifier.predict(X_test)"
      ],
      "metadata": {
        "id": "cKQ_tLhPxLxM"
      },
      "execution_count": null,
      "outputs": []
    },
    {
      "cell_type": "code",
      "source": [
        "from sklearn.metrics import classification_report, confusion_matrix\n",
        "print(confusion_matrix(y_test, y_pred))\n",
        "print(classification_report(y_test, y_pred))"
      ],
      "metadata": {
        "colab": {
          "base_uri": "https://localhost:8080/"
        },
        "id": "XzoD7k9jxDZE",
        "outputId": "b04863c3-ee47-4e79-82b3-a7c11baea29c"
      },
      "execution_count": null,
      "outputs": [
        {
          "output_type": "stream",
          "name": "stdout",
          "text": [
            "[[161   2]\n",
            " [  0 112]]\n",
            "              precision    recall  f1-score   support\n",
            "\n",
            "           0       1.00      0.99      0.99       163\n",
            "           1       0.98      1.00      0.99       112\n",
            "\n",
            "    accuracy                           0.99       275\n",
            "   macro avg       0.99      0.99      0.99       275\n",
            "weighted avg       0.99      0.99      0.99       275\n",
            "\n"
          ]
        }
      ]
    },
    {
      "cell_type": "code",
      "source": [
        "from sklearn.metrics import confusion_matrix  \n",
        "cm= confusion_matrix(y_test, y_pred)  \n",
        "cm"
      ],
      "metadata": {
        "colab": {
          "base_uri": "https://localhost:8080/"
        },
        "id": "3y4n6xwVxmvD",
        "outputId": "3f33c193-bbba-4d01-eb2b-c245aca3350a"
      },
      "execution_count": null,
      "outputs": [
        {
          "output_type": "execute_result",
          "data": {
            "text/plain": [
              "array([[161,   2],\n",
              "       [  0, 112]])"
            ]
          },
          "metadata": {},
          "execution_count": 15
        }
      ]
    },
    {
      "cell_type": "code",
      "source": [
        "from sklearn.metrics import accuracy_score\n",
        "print(\"Accuracy : \",accuracy_score(y_test,y_pred))"
      ],
      "metadata": {
        "colab": {
          "base_uri": "https://localhost:8080/"
        },
        "id": "fru0oYl4xxlT",
        "outputId": "aa0ee9b6-9bff-44b7-ff74-37dbdc4a4b67"
      },
      "execution_count": null,
      "outputs": [
        {
          "output_type": "stream",
          "name": "stdout",
          "text": [
            "Accuracy :  0.9927272727272727\n"
          ]
        }
      ]
    },
    {
      "cell_type": "code",
      "source": [
        "from sklearn import tree\n",
        "tree.plot_tree(classifier)"
      ],
      "metadata": {
        "colab": {
          "base_uri": "https://localhost:8080/",
          "height": 1000
        },
        "id": "_Z73FFqZx5bD",
        "outputId": "9ecb68aa-6779-4e72-c4d9-3980cae6964b"
      },
      "execution_count": null,
      "outputs": [
        {
          "output_type": "execute_result",
          "data": {
            "text/plain": [
              "[Text(172.04999999999998, 205.35999999999999, 'X[0] <= 0.313\\ngini = 0.496\\nsamples = 1097\\nvalue = [599, 498]'),\n",
              " Text(114.25714285714285, 181.2, 'X[1] <= 7.565\\ngini = 0.286\\nsamples = 532\\nvalue = [92, 440]'),\n",
              " Text(79.71428571428571, 157.04, 'X[0] <= -0.459\\ngini = 0.123\\nsamples = 454\\nvalue = [30, 424]'),\n",
              " Text(42.51428571428571, 132.88, 'X[2] <= 6.746\\ngini = 0.061\\nsamples = 380\\nvalue = [12, 368]'),\n",
              " Text(21.257142857142856, 108.72, 'X[1] <= 7.293\\ngini = 0.007\\nsamples = 270\\nvalue = [1, 269]'),\n",
              " Text(10.628571428571428, 84.56, 'gini = 0.0\\nsamples = 266\\nvalue = [0, 266]'),\n",
              " Text(31.885714285714286, 84.56, 'X[2] <= 0.248\\ngini = 0.375\\nsamples = 4\\nvalue = [1, 3]'),\n",
              " Text(21.257142857142856, 60.400000000000006, 'gini = 0.0\\nsamples = 3\\nvalue = [0, 3]'),\n",
              " Text(42.51428571428571, 60.400000000000006, 'gini = 0.0\\nsamples = 1\\nvalue = [1, 0]'),\n",
              " Text(63.77142857142857, 108.72, 'X[1] <= -4.8\\ngini = 0.18\\nsamples = 110\\nvalue = [11, 99]'),\n",
              " Text(53.14285714285714, 84.56, 'gini = 0.0\\nsamples = 99\\nvalue = [0, 99]'),\n",
              " Text(74.39999999999999, 84.56, 'gini = 0.0\\nsamples = 11\\nvalue = [11, 0]'),\n",
              " Text(116.91428571428571, 132.88, 'X[2] <= 4.841\\ngini = 0.368\\nsamples = 74\\nvalue = [18, 56]'),\n",
              " Text(106.28571428571428, 108.72, 'X[1] <= 5.454\\ngini = 0.239\\nsamples = 65\\nvalue = [9, 56]'),\n",
              " Text(95.65714285714286, 84.56, 'X[2] <= 2.625\\ngini = 0.034\\nsamples = 57\\nvalue = [1, 56]'),\n",
              " Text(85.02857142857142, 60.400000000000006, 'gini = 0.0\\nsamples = 55\\nvalue = [0, 55]'),\n",
              " Text(106.28571428571428, 60.400000000000006, 'X[3] <= 0.588\\ngini = 0.5\\nsamples = 2\\nvalue = [1, 1]'),\n",
              " Text(95.65714285714286, 36.24000000000001, 'gini = 0.0\\nsamples = 1\\nvalue = [1, 0]'),\n",
              " Text(116.91428571428571, 36.24000000000001, 'gini = 0.0\\nsamples = 1\\nvalue = [0, 1]'),\n",
              " Text(116.91428571428571, 84.56, 'gini = 0.0\\nsamples = 8\\nvalue = [8, 0]'),\n",
              " Text(127.54285714285714, 108.72, 'gini = 0.0\\nsamples = 9\\nvalue = [9, 0]'),\n",
              " Text(148.79999999999998, 157.04, 'X[0] <= -4.726\\ngini = 0.326\\nsamples = 78\\nvalue = [62, 16]'),\n",
              " Text(138.17142857142858, 132.88, 'gini = 0.0\\nsamples = 16\\nvalue = [0, 16]'),\n",
              " Text(159.42857142857142, 132.88, 'gini = 0.0\\nsamples = 62\\nvalue = [62, 0]'),\n",
              " Text(229.84285714285713, 181.2, 'X[2] <= -4.443\\ngini = 0.184\\nsamples = 565\\nvalue = [507, 58]'),\n",
              " Text(191.31428571428572, 157.04, 'X[1] <= 7.192\\ngini = 0.337\\nsamples = 28\\nvalue = [6, 22]'),\n",
              " Text(180.68571428571428, 132.88, 'gini = 0.0\\nsamples = 22\\nvalue = [0, 22]'),\n",
              " Text(201.94285714285712, 132.88, 'gini = 0.0\\nsamples = 6\\nvalue = [6, 0]'),\n",
              " Text(268.37142857142857, 157.04, 'X[0] <= 1.592\\ngini = 0.125\\nsamples = 537\\nvalue = [501, 36]'),\n",
              " Text(223.2, 132.88, 'X[2] <= -2.181\\ngini = 0.355\\nsamples = 143\\nvalue = [110, 33]'),\n",
              " Text(196.62857142857143, 108.72, 'X[1] <= 5.641\\ngini = 0.236\\nsamples = 22\\nvalue = [3, 19]'),\n",
              " Text(186.0, 84.56, 'gini = 0.0\\nsamples = 19\\nvalue = [0, 19]'),\n",
              " Text(207.25714285714284, 84.56, 'gini = 0.0\\nsamples = 3\\nvalue = [3, 0]'),\n",
              " Text(249.77142857142857, 108.72, 'X[3] <= 0.23\\ngini = 0.205\\nsamples = 121\\nvalue = [107, 14]'),\n",
              " Text(228.5142857142857, 84.56, 'X[0] <= 0.42\\ngini = 0.041\\nsamples = 96\\nvalue = [94, 2]'),\n",
              " Text(217.88571428571427, 60.400000000000006, 'X[0] <= 0.401\\ngini = 0.26\\nsamples = 13\\nvalue = [11, 2]'),\n",
              " Text(207.25714285714284, 36.24000000000001, 'X[3] <= -0.022\\ngini = 0.153\\nsamples = 12\\nvalue = [11, 1]'),\n",
              " Text(196.62857142857143, 12.079999999999984, 'gini = 0.0\\nsamples = 11\\nvalue = [11, 0]'),\n",
              " Text(217.88571428571427, 12.079999999999984, 'gini = 0.0\\nsamples = 1\\nvalue = [0, 1]'),\n",
              " Text(228.5142857142857, 36.24000000000001, 'gini = 0.0\\nsamples = 1\\nvalue = [0, 1]'),\n",
              " Text(239.14285714285714, 60.400000000000006, 'gini = 0.0\\nsamples = 83\\nvalue = [83, 0]'),\n",
              " Text(271.0285714285714, 84.56, 'X[2] <= 1.919\\ngini = 0.499\\nsamples = 25\\nvalue = [13, 12]'),\n",
              " Text(260.4, 60.400000000000006, 'X[1] <= 3.507\\ngini = 0.245\\nsamples = 14\\nvalue = [2, 12]'),\n",
              " Text(249.77142857142857, 36.24000000000001, 'gini = 0.0\\nsamples = 12\\nvalue = [0, 12]'),\n",
              " Text(271.0285714285714, 36.24000000000001, 'gini = 0.0\\nsamples = 2\\nvalue = [2, 0]'),\n",
              " Text(281.65714285714284, 60.400000000000006, 'gini = 0.0\\nsamples = 11\\nvalue = [11, 0]'),\n",
              " Text(313.54285714285714, 132.88, 'X[0] <= 2.037\\ngini = 0.015\\nsamples = 394\\nvalue = [391, 3]'),\n",
              " Text(302.9142857142857, 108.72, 'X[2] <= -2.648\\ngini = 0.12\\nsamples = 47\\nvalue = [44, 3]'),\n",
              " Text(292.2857142857143, 84.56, 'gini = 0.0\\nsamples = 3\\nvalue = [0, 3]'),\n",
              " Text(313.54285714285714, 84.56, 'gini = 0.0\\nsamples = 44\\nvalue = [44, 0]'),\n",
              " Text(324.1714285714286, 108.72, 'gini = 0.0\\nsamples = 347\\nvalue = [347, 0]')]"
            ]
          },
          "metadata": {},
          "execution_count": 17
        },
        {
          "output_type": "display_data",
          "data": {
            "image/png": "[encoded data removed]",
            "text/plain": [
              "<Figure size 432x288 with 1 Axes>"
            ]
          },
          "metadata": {
            "needs_background": "light"
          }
        }
      ]
    }
  ]
}