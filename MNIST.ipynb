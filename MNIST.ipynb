{
  "nbformat": 4,
  "nbformat_minor": 0,
  "metadata": {
    "colab": {
      "name": "MNIST.ipynb",
      "provenance": [],
      "collapsed_sections": [],
      "authorship_tag": "ABX9TyNPL64kLA2J8ZARD7Ow+muY",
      "include_colab_link": true
    },
    "kernelspec": {
      "name": "python3",
      "display_name": "Python 3"
    },
    "language_info": {
      "name": "python"
    }
  },
  "cells": [
    {
      "cell_type": "markdown",
      "metadata": {
        "id": "view-in-github",
        "colab_type": "text"
      },
      "source": [
        "<a href=\"https://colab.research.google.com/github/Reji20/Datascience--lab/blob/main/MNIST.ipynb\" target=\"_parent\"><img src=\"https://colab.research.google.com/assets/colab-badge.svg\" alt=\"Open In Colab\"/></a>"
      ]
    },
    {
      "cell_type": "code",
      "source": [
        "\n",
        "import tensorflow as tf\n",
        "from tensorflow import keras\n",
        "import matplotlib.pyplot as plt\n",
        "mnistDB= keras.datasets.mnist"
      ],
      "metadata": {
        "id": "XPF1wQVzG_E2"
      },
      "execution_count": null,
      "outputs": []
    },
    {
      "cell_type": "code",
      "source": [
        "(x_train, y_train), (x_test, y_test)=mnistDB.load_data()\n",
        "x_train= x_train.reshape((60000,28*28))\n",
        "x_test= x_test.reshape((10000,28*28))\n",
        "x_train=x_train.astype('float32')/255\n",
        "x_test= x_test.astype('float32')/255"
      ],
      "metadata": {
        "colab": {
          "base_uri": "https://localhost:8080/"
        },
        "id": "RljEukfkHCQ-",
        "outputId": "7db0e6c4-86f8-4f36-b30c-91fefa60c4ca"
      },
      "execution_count": null,
      "outputs": [
        {
          "output_type": "stream",
          "name": "stdout",
          "text": [
            "Downloading data from https://storage.googleapis.com/tensorflow/tf-keras-datasets/mnist.npz\n",
            "11493376/11490434 [==============================] - 0s 0us/step\n",
            "11501568/11490434 [==============================] - 0s 0us/step\n"
          ]
        }
      ]
    },
    {
      "cell_type": "code",
      "source": [
        "ml=keras.models.Sequential()\n",
        "ml.add(keras.layers.Dense(units=50, activation='relu'))\n",
        "ml.add(keras.layers.Dense(units=100, activation='relu'))\n",
        "ml.add(keras.layers.Dense(units=70, activation='relu'))\n",
        "ml.add(keras.layers.Dense(units=10, activation='softmax'))"
      ],
      "metadata": {
        "id": "Ub8ihqt6HE42"
      },
      "execution_count": null,
      "outputs": []
    },
    {
      "cell_type": "code",
      "source": [
        "ml.compile(loss='sparse_categorical_crossentropy', optimizer='adam', metrics=['accuracy'])\n",
        "ml.fit(x_train, y_train, epochs=1, batch_size=16)\n",
        "test_loss, test_accuracy=ml.evaluate(x_test,y_test)"
      ],
      "metadata": {
        "colab": {
          "base_uri": "https://localhost:8080/"
        },
        "id": "B5b9AZQvHVbV",
        "outputId": "a7197f0c-b36e-4e7f-d02c-7fa6f6f36d6e"
      },
      "execution_count": null,
      "outputs": [
        {
          "output_type": "stream",
          "name": "stdout",
          "text": [
            "3750/3750 [==============================] - 8s 2ms/step - loss: 0.2538 - accuracy: 0.9244\n",
            "313/313 [==============================] - 1s 1ms/step - loss: 0.1341 - accuracy: 0.9592\n"
          ]
        }
      ]
    },
    {
      "cell_type": "code",
      "source": [
        "from keras.preprocessing.image import load_img\n",
        "from keras.preprocessing.image import img_to_array\n",
        "from keras.models import load_model"
      ],
      "metadata": {
        "id": "urel6rzHHavl"
      },
      "execution_count": null,
      "outputs": []
    },
    {
      "cell_type": "code",
      "source": [
        "img=load_img('/content/s1.jpg', grayscale=True, target_size=(28,28))\n",
        "plt.imshow(img)\n",
        "img=img_to_array(img)\n",
        "img=img.reshape(1,28*28)\n",
        "img=img.astype('float32')/255.0\n",
        "digit=ml.predict_step(img)\n",
        "print('Digit is: ',digit[0])"
      ],
      "metadata": {
        "colab": {
          "base_uri": "https://localhost:8080/",
          "height": 377
        },
        "id": "5xhAYypIHcTV",
        "outputId": "5737077c-aac9-4e53-e0dd-4e86ee572ce2"
      },
      "execution_count": null,
      "outputs": [
        {
          "output_type": "stream",
          "name": "stderr",
          "text": [
            "/usr/local/lib/python3.7/dist-packages/keras_preprocessing/image/utils.py:107: UserWarning: grayscale is deprecated. Please use color_mode = \"grayscale\"\n",
            "  warnings.warn('grayscale is deprecated. Please use '\n"
          ]
        },
        {
          "output_type": "stream",
          "name": "stdout",
          "text": [
            "Digit is:  tf.Tensor(\n",
            "[7.1763585e-05 1.6084387e-05 1.9240929e-02 4.8794612e-01 4.1885881e-09\n",
            " 4.9225032e-01 8.7349059e-07 8.4175986e-07 1.0891926e-04 3.6421311e-04], shape=(10,), dtype=float32)\n"
          ]
        },
        {
          "output_type": "display_data",
          "data": {
            "image/png": "[encoded data removed]",
            "text/plain": [
              "<Figure size 432x288 with 1 Axes>"
            ]
          },
          "metadata": {
            "needs_background": "light"
          }
        }
      ]
    }
  ]
}