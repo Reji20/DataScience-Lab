{
  "nbformat": 4,
  "nbformat_minor": 0,
  "metadata": {
    "colab": {
      "name": "Decision Tree.ipynb",
      "provenance": [],
      "collapsed_sections": [],
      "authorship_tag": "ABX9TyOUqYnzJPGBdL91J6VKg0pc",
      "include_colab_link": true
    },
    "kernelspec": {
      "name": "python3",
      "display_name": "Python 3"
    },
    "language_info": {
      "name": "python"
    }
  },
  "cells": [
    {
      "cell_type": "markdown",
      "metadata": {
        "id": "view-in-github",
        "colab_type": "text"
      },
      "source": [
        "<a href=\"https://colab.research.google.com/github/Reji20/Datascience--lab/blob/main/Decision_Tree.ipynb\" target=\"_parent\"><img src=\"https://colab.research.google.com/assets/colab-badge.svg\" alt=\"Open In Colab\"/></a>"
      ]
    },
    {
      "cell_type": "code",
      "execution_count": null,
      "metadata": {
        "id": "CqXZdqwTh1eW"
      },
      "outputs": [],
      "source": [
        "import pandas as pd\n",
        "import numpy as np \n",
        "import matplotlib.pyplot as plt\n",
        "import seaborn as sns"
      ]
    },
    {
      "cell_type": "code",
      "source": [
        "df=pd.read_csv('/content/iris.csv')"
      ],
      "metadata": {
        "id": "CrL_nRFvkMUn"
      },
      "execution_count": null,
      "outputs": []
    },
    {
      "cell_type": "code",
      "source": [
        "df.columns"
      ],
      "metadata": {
        "colab": {
          "base_uri": "https://localhost:8080/"
        },
        "id": "Yq3PHAO8kZod",
        "outputId": "21356e23-0b68-4368-d208-7ce87849a805"
      },
      "execution_count": null,
      "outputs": [
        {
          "output_type": "execute_result",
          "data": {
            "text/plain": [
              "Index(['sepal.length', 'sepal.width', 'petal.length', 'petal.width',\n",
              "       'variety'],\n",
              "      dtype='object')"
            ]
          },
          "metadata": {},
          "execution_count": 6
        }
      ]
    },
    {
      "cell_type": "code",
      "source": [
        "x= df.iloc[:, [2,3]].values  \n",
        "y= df.iloc[:, 4].values \n",
        "y"
      ],
      "metadata": {
        "colab": {
          "base_uri": "https://localhost:8080/"
        },
        "id": "TfdByqckkqC3",
        "outputId": "5d696421-9d34-4c9e-edfa-632c2c3a2080"
      },
      "execution_count": null,
      "outputs": [
        {
          "output_type": "execute_result",
          "data": {
            "text/plain": [
              "array(['Setosa', 'Setosa', 'Setosa', 'Setosa', 'Setosa', 'Setosa',\n",
              "       'Setosa', 'Setosa', 'Setosa', 'Setosa', 'Setosa', 'Setosa',\n",
              "       'Setosa', 'Setosa', 'Setosa', 'Setosa', 'Setosa', 'Setosa',\n",
              "       'Setosa', 'Setosa', 'Setosa', 'Setosa', 'Setosa', 'Setosa',\n",
              "       'Setosa', 'Setosa', 'Setosa', 'Setosa', 'Setosa', 'Setosa',\n",
              "       'Setosa', 'Setosa', 'Setosa', 'Setosa', 'Setosa', 'Setosa',\n",
              "       'Setosa', 'Setosa', 'Setosa', 'Setosa', 'Setosa', 'Setosa',\n",
              "       'Setosa', 'Setosa', 'Setosa', 'Setosa', 'Setosa', 'Setosa',\n",
              "       'Setosa', 'Setosa', 'Versicolor', 'Versicolor', 'Versicolor',\n",
              "       'Versicolor', 'Versicolor', 'Versicolor', 'Versicolor',\n",
              "       'Versicolor', 'Versicolor', 'Versicolor', 'Versicolor',\n",
              "       'Versicolor', 'Versicolor', 'Versicolor', 'Versicolor',\n",
              "       'Versicolor', 'Versicolor', 'Versicolor', 'Versicolor',\n",
              "       'Versicolor', 'Versicolor', 'Versicolor', 'Versicolor',\n",
              "       'Versicolor', 'Versicolor', 'Versicolor', 'Versicolor',\n",
              "       'Versicolor', 'Versicolor', 'Versicolor', 'Versicolor',\n",
              "       'Versicolor', 'Versicolor', 'Versicolor', 'Versicolor',\n",
              "       'Versicolor', 'Versicolor', 'Versicolor', 'Versicolor',\n",
              "       'Versicolor', 'Versicolor', 'Versicolor', 'Versicolor',\n",
              "       'Versicolor', 'Versicolor', 'Versicolor', 'Versicolor',\n",
              "       'Versicolor', 'Versicolor', 'Versicolor', 'Virginica', 'Virginica',\n",
              "       'Virginica', 'Virginica', 'Virginica', 'Virginica', 'Virginica',\n",
              "       'Virginica', 'Virginica', 'Virginica', 'Virginica', 'Virginica',\n",
              "       'Virginica', 'Virginica', 'Virginica', 'Virginica', 'Virginica',\n",
              "       'Virginica', 'Virginica', 'Virginica', 'Virginica', 'Virginica',\n",
              "       'Virginica', 'Virginica', 'Virginica', 'Virginica', 'Virginica',\n",
              "       'Virginica', 'Virginica', 'Virginica', 'Virginica', 'Virginica',\n",
              "       'Virginica', 'Virginica', 'Virginica', 'Virginica', 'Virginica',\n",
              "       'Virginica', 'Virginica', 'Virginica', 'Virginica', 'Virginica',\n",
              "       'Virginica', 'Virginica', 'Virginica', 'Virginica', 'Virginica',\n",
              "       'Virginica', 'Virginica', 'Virginica'], dtype=object)"
            ]
          },
          "metadata": {},
          "execution_count": 11
        }
      ]
    },
    {
      "cell_type": "code",
      "source": [
        "from sklearn.model_selection import train_test_split  \n",
        "x_train, x_test, y_train, y_test= train_test_split(x, y, test_size= 0.25, random_state=0)"
      ],
      "metadata": {
        "id": "Fld7wIurrKy6"
      },
      "execution_count": null,
      "outputs": []
    },
    {
      "cell_type": "code",
      "source": [
        "from sklearn.preprocessing import StandardScaler    \n",
        "st_x= StandardScaler()  \n",
        "x_train= st_x.fit_transform(x_train)    \n",
        "x_test= st_x.transform(x_test) "
      ],
      "metadata": {
        "id": "SqF13SMNrRkp"
      },
      "execution_count": null,
      "outputs": []
    },
    {
      "cell_type": "code",
      "source": [
        "from sklearn.tree import DecisionTreeClassifier  \n",
        "classifier= DecisionTreeClassifier(criterion='entropy', random_state=0)  \n",
        "classifier.fit(x_train, y_train)  "
      ],
      "metadata": {
        "colab": {
          "base_uri": "https://localhost:8080/"
        },
        "id": "m52Lw0NLrf0j",
        "outputId": "101eccc1-cd2c-4546-8cfa-063a008ea457"
      },
      "execution_count": null,
      "outputs": [
        {
          "output_type": "execute_result",
          "data": {
            "text/plain": [
              "DecisionTreeClassifier(criterion='entropy', random_state=0)"
            ]
          },
          "metadata": {},
          "execution_count": 16
        }
      ]
    },
    {
      "cell_type": "code",
      "source": [
        "y_pred= classifier.predict(x_test)  "
      ],
      "metadata": {
        "id": "T8oKFmRkrkzR"
      },
      "execution_count": null,
      "outputs": []
    },
    {
      "cell_type": "code",
      "source": [
        "from sklearn.metrics import confusion_matrix  \n",
        "cm= confusion_matrix(y_test, y_pred)  \n",
        "cm"
      ],
      "metadata": {
        "colab": {
          "base_uri": "https://localhost:8080/"
        },
        "id": "ioNbFhv5rsga",
        "outputId": "2310ce84-6f07-470c-aec1-711b2835fa81"
      },
      "execution_count": null,
      "outputs": [
        {
          "output_type": "execute_result",
          "data": {
            "text/plain": [
              "array([[13,  0,  0],\n",
              "       [ 0, 15,  1],\n",
              "       [ 0,  1,  8]])"
            ]
          },
          "metadata": {},
          "execution_count": 18
        }
      ]
    },
    {
      "cell_type": "code",
      "source": [
        "from sklearn.metrics import accuracy_score\n",
        "print(\"Accuracy : \",accuracy_score(y_test,y_pred))"
      ],
      "metadata": {
        "colab": {
          "base_uri": "https://localhost:8080/"
        },
        "id": "JxenmcgUrz_a",
        "outputId": "91d2ef44-3ec2-4716-d270-4def83ab6c7b"
      },
      "execution_count": null,
      "outputs": [
        {
          "output_type": "stream",
          "name": "stdout",
          "text": [
            "Accuracy :  0.9473684210526315\n"
          ]
        }
      ]
    },
    {
      "cell_type": "code",
      "source": [
        "from sklearn import tree\n",
        "tree.plot_tree(classifier)"
      ],
      "metadata": {
        "id": "ru4tSr7Ar4R7",
        "outputId": "feb1d650-5363-41b5-c6a1-67913fe5315b",
        "colab": {
          "base_uri": "https://localhost:8080/",
          "height": 508
        }
      },
      "execution_count": null,
      "outputs": [
        {
          "output_type": "execute_result",
          "data": {
            "text/plain": [
              "[Text(133.92000000000002, 199.32, 'X[1] <= -0.544\\nentropy = 1.581\\nsamples = 112\\nvalue = [37, 34, 41]'),\n",
              " Text(100.44000000000001, 163.07999999999998, 'entropy = 0.0\\nsamples = 37\\nvalue = [37, 0, 0]'),\n",
              " Text(167.40000000000003, 163.07999999999998, 'X[0] <= 0.644\\nentropy = 0.994\\nsamples = 75\\nvalue = [0, 34, 41]'),\n",
              " Text(66.96000000000001, 126.83999999999999, 'X[1] <= 0.549\\nentropy = 0.414\\nsamples = 36\\nvalue = [0, 33, 3]'),\n",
              " Text(33.480000000000004, 90.6, 'entropy = 0.0\\nsamples = 32\\nvalue = [0, 32, 0]'),\n",
              " Text(100.44000000000001, 90.6, 'X[0] <= 0.476\\nentropy = 0.811\\nsamples = 4\\nvalue = [0, 1, 3]'),\n",
              " Text(66.96000000000001, 54.359999999999985, 'entropy = 0.0\\nsamples = 1\\nvalue = [0, 0, 1]'),\n",
              " Text(133.92000000000002, 54.359999999999985, 'X[0] <= 0.588\\nentropy = 0.918\\nsamples = 3\\nvalue = [0, 1, 2]'),\n",
              " Text(100.44000000000001, 18.119999999999976, 'entropy = 1.0\\nsamples = 2\\nvalue = [0, 1, 1]'),\n",
              " Text(167.40000000000003, 18.119999999999976, 'entropy = 0.0\\nsamples = 1\\nvalue = [0, 0, 1]'),\n",
              " Text(267.84000000000003, 126.83999999999999, 'X[1] <= 0.677\\nentropy = 0.172\\nsamples = 39\\nvalue = [0, 1, 38]'),\n",
              " Text(234.36, 90.6, 'X[1] <= 0.549\\nentropy = 0.811\\nsamples = 4\\nvalue = [0, 1, 3]'),\n",
              " Text(200.88000000000002, 54.359999999999985, 'entropy = 0.0\\nsamples = 3\\nvalue = [0, 0, 3]'),\n",
              " Text(267.84000000000003, 54.359999999999985, 'entropy = 0.0\\nsamples = 1\\nvalue = [0, 1, 0]'),\n",
              " Text(301.32000000000005, 90.6, 'entropy = 0.0\\nsamples = 35\\nvalue = [0, 0, 35]')]"
            ]
          },
          "metadata": {},
          "execution_count": 20
        },
        {
          "output_type": "display_data",
          "data": {
            "image/png": "[encoded data removed]",
            "text/plain": [
              "<Figure size 432x288 with 1 Axes>"
            ]
          },
          "metadata": {
            "needs_background": "light"
          }
        }
      ]
    }
  ]
}