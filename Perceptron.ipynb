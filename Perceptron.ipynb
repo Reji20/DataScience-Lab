{
  "nbformat": 4,
  "nbformat_minor": 0,
  "metadata": {
    "colab": {
      "name": "Perceptron.ipynb",
      "provenance": [],
      "authorship_tag": "ABX9TyOFj0fE1roRpLjeiWiHkCzX",
      "include_colab_link": true
    },
    "kernelspec": {
      "name": "python3",
      "display_name": "Python 3"
    },
    "language_info": {
      "name": "python"
    }
  },
  "cells": [
    {
      "cell_type": "markdown",
      "metadata": {
        "id": "view-in-github",
        "colab_type": "text"
      },
      "source": [
        "<a href=\"https://colab.research.google.com/github/Reji20/Datascience--lab/blob/main/Perceptron.ipynb\" target=\"_parent\"><img src=\"https://colab.research.google.com/assets/colab-badge.svg\" alt=\"Open In Colab\"/></a>"
      ]
    },
    {
      "cell_type": "code",
      "execution_count": 1,
      "metadata": {
        "colab": {
          "base_uri": "https://localhost:8080/"
        },
        "id": "VJAxt-x45iJx",
        "outputId": "75a8ff13-0657-4aa0-f93c-d77d04b2b234"
      },
      "outputs": [
        {
          "output_type": "stream",
          "name": "stdout",
          "text": [
            "['boy' 'girl']\n"
          ]
        }
      ],
      "source": [
        "from sklearn.linear_model import Perceptron\n",
        "\n",
        "x = [(1,0),(0,0),(2,0)]\n",
        "y = [\"boy\", \"girl\", \"boy\"]\n",
        "\n",
        "ML = Perceptron()\n",
        "ML = ML.fit(x, y)\n",
        "pred = ML.predict([(1,0),(0,0)])\n",
        "print(pred)"
      ]
    },
    {
      "cell_type": "code",
      "source": [
        "from sklearn.neural_network import MLPClassifier\n",
        "x = [[1,0],[1,1],[2,0]]\n",
        "y = [\"boy\", \"girl\", \"boy\"]\n",
        "\n",
        "ML1 = MLPClassifier(hidden_layer_sizes=(10), activation= 'relu')\n",
        "ML1.fit(x,y)\n",
        "\n",
        "prediction = ML1.predict([[1,0],[1,1]])\n",
        "print(prediction)"
      ],
      "metadata": {
        "colab": {
          "base_uri": "https://localhost:8080/"
        },
        "id": "yFQHFK7P5mUo",
        "outputId": "f8daa49b-8528-4bd3-b9e0-2a6c2a63fc5a"
      },
      "execution_count": 2,
      "outputs": [
        {
          "output_type": "stream",
          "name": "stdout",
          "text": [
            "['boy' 'boy']\n"
          ]
        },
        {
          "output_type": "stream",
          "name": "stderr",
          "text": [
            "/usr/local/lib/python3.7/dist-packages/sklearn/neural_network/_multilayer_perceptron.py:696: ConvergenceWarning: Stochastic Optimizer: Maximum iterations (200) reached and the optimization hasn't converged yet.\n",
            "  ConvergenceWarning,\n"
          ]
        }
      ]
    }
  ]
}